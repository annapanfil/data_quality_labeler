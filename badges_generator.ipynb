{
 "cells": [
  {
   "cell_type": "markdown",
   "metadata": {},
   "source": [
    "## Generate dataset"
   ]
  },
  {
   "cell_type": "code",
   "execution_count": 5,
   "metadata": {},
   "outputs": [],
   "source": [
    "from faker import Faker\n",
    "import numpy as np\n",
    "import pandas as pd\n",
    "import random\n",
    "\n",
    "fake = Faker()"
   ]
  },
  {
   "cell_type": "code",
   "execution_count": 7,
   "metadata": {},
   "outputs": [
    {
     "data": {
      "text/html": [
       "<div>\n",
       "<style scoped>\n",
       "    .dataframe tbody tr th:only-of-type {\n",
       "        vertical-align: middle;\n",
       "    }\n",
       "\n",
       "    .dataframe tbody tr th {\n",
       "        vertical-align: top;\n",
       "    }\n",
       "\n",
       "    .dataframe thead th {\n",
       "        text-align: right;\n",
       "    }\n",
       "</style>\n",
       "<table border=\"1\" class=\"dataframe\">\n",
       "  <thead>\n",
       "    <tr style=\"text-align: right;\">\n",
       "      <th></th>\n",
       "      <th>name</th>\n",
       "      <th>surname</th>\n",
       "      <th>birthdate</th>\n",
       "      <th>results1</th>\n",
       "      <th>results2</th>\n",
       "      <th>category</th>\n",
       "      <th>email</th>\n",
       "    </tr>\n",
       "  </thead>\n",
       "  <tbody>\n",
       "    <tr>\n",
       "      <th>0</th>\n",
       "      <td>Joshua</td>\n",
       "      <td>Frank</td>\n",
       "      <td>2003-10-08</td>\n",
       "      <td>NA</td>\n",
       "      <td>0.690497</td>\n",
       "      <td>B</td>\n",
       "      <td>xmcdonald@example.net</td>\n",
       "    </tr>\n",
       "    <tr>\n",
       "      <th>1</th>\n",
       "      <td>Nathan</td>\n",
       "      <td>Morris</td>\n",
       "      <td>1979-03-15</td>\n",
       "      <td>83</td>\n",
       "      <td>0.406892</td>\n",
       "      <td>B</td>\n",
       "      <td>N/A</td>\n",
       "    </tr>\n",
       "    <tr>\n",
       "      <th>2</th>\n",
       "      <td>James</td>\n",
       "      <td>Santiago</td>\n",
       "      <td>1962-10-16</td>\n",
       "      <td>27</td>\n",
       "      <td>0.3637</td>\n",
       "      <td>B</td>\n",
       "      <td>qwright@example.org</td>\n",
       "    </tr>\n",
       "    <tr>\n",
       "      <th>3</th>\n",
       "      <td>Keith</td>\n",
       "      <td>NA</td>\n",
       "      <td>1936-02-14</td>\n",
       "      <td>82</td>\n",
       "      <td>0.140616</td>\n",
       "      <td>B</td>\n",
       "      <td>None</td>\n",
       "    </tr>\n",
       "    <tr>\n",
       "      <th>4</th>\n",
       "      <td>Karen</td>\n",
       "      <td>Krueger</td>\n",
       "      <td>1955-05-14</td>\n",
       "      <td>22</td>\n",
       "      <td>0.579501</td>\n",
       "      <td>NULL</td>\n",
       "      <td>none</td>\n",
       "    </tr>\n",
       "  </tbody>\n",
       "</table>\n",
       "</div>"
      ],
      "text/plain": [
       "     name   surname   birthdate results1  results2 category  \\\n",
       "0  Joshua     Frank  2003-10-08       NA  0.690497        B   \n",
       "1  Nathan    Morris  1979-03-15       83  0.406892        B   \n",
       "2   James  Santiago  1962-10-16       27    0.3637        B   \n",
       "3   Keith        NA  1936-02-14       82  0.140616        B   \n",
       "4   Karen   Krueger  1955-05-14       22  0.579501     NULL   \n",
       "\n",
       "                   email  \n",
       "0  xmcdonald@example.net  \n",
       "1                    N/A  \n",
       "2    qwright@example.org  \n",
       "3                   None  \n",
       "4                   none  "
      ]
     },
     "execution_count": 7,
     "metadata": {},
     "output_type": "execute_result"
    }
   ],
   "source": [
    "columns=[\"name\", \"surname\", \"birthdate\", \"results1\", \"results2\", \"category\", \"email\"]\n",
    "missing_symbols = [None, \"null\", \"\", \"NULL\", \"N/A\", \"n/a\", \"NA\", \"na\", \"NaN\", \"nan\", \"None\", \"none\", \"NONE\"]\n",
    "\n",
    "dataset_size = 100\n",
    "missing_percentage = [0.1]*len(columns)\n",
    "\n",
    "data = pd.DataFrame(columns=columns)\n",
    "\n",
    "data[\"name\"],data[\"surname\"] = zip(*[fake.name().split() for _ in range(dataset_size)])\n",
    "data[\"birthdate\"] = [fake.date_of_birth() for _ in range(dataset_size)]\n",
    "data[\"results1\"] = [random.randint(0,100) for _ in range(dataset_size)]\n",
    "data[\"results2\"] = [random.random() for _ in range(dataset_size)]\n",
    "data[\"category\"] = random.choices([\"A\", \"B\", \"C\"], k=dataset_size)\n",
    "data[\"email\"] = [fake.email() for _ in range(dataset_size)]\n",
    "\n",
    "## mishmash a bit\n",
    "# missing\n",
    "for column_no, missing_p in enumerate(missing_percentage):\n",
    "    data.iloc[data.sample(frac=missing_p).index, column_no] = random.choices(missing_symbols, k=int(missing_p*dataset_size))\n",
    "\n",
    "# future dates in birthdate\n",
    "\n",
    "# outliers\n",
    "\n",
    "# lowercase categories\n",
    "\n",
    "# not int results\n",
    "\n",
    "# ...\n",
    "\n",
    "data.head()"
   ]
  },
  {
   "cell_type": "code",
   "execution_count": 8,
   "metadata": {},
   "outputs": [
    {
     "data": {
      "text/plain": [
       "name         0\n",
       "surname      0\n",
       "birthdate    0\n",
       "results1     0\n",
       "results2     0\n",
       "category     1\n",
       "email        2\n",
       "dtype: int64"
      ]
     },
     "execution_count": 8,
     "metadata": {},
     "output_type": "execute_result"
    }
   ],
   "source": [
    "data.isnull().sum()"
   ]
  },
  {
   "cell_type": "markdown",
   "metadata": {},
   "source": [
    "# Start analysis"
   ]
  },
  {
   "cell_type": "markdown",
   "metadata": {},
   "source": [
    "## Check if there are any missing values"
   ]
  },
  {
   "cell_type": "code",
   "execution_count": 9,
   "metadata": {},
   "outputs": [],
   "source": [
    "dataset_scores = dict()"
   ]
  },
  {
   "cell_type": "code",
   "execution_count": 10,
   "metadata": {},
   "outputs": [],
   "source": [
    "data.replace(missing_symbols, np.nan, inplace=True)"
   ]
  },
  {
   "cell_type": "code",
   "execution_count": 11,
   "metadata": {},
   "outputs": [
    {
     "data": {
      "text/plain": [
       "name         10\n",
       "surname      10\n",
       "birthdate    10\n",
       "results1     10\n",
       "results2     10\n",
       "category     10\n",
       "email        10\n",
       "dtype: int64"
      ]
     },
     "execution_count": 11,
     "metadata": {},
     "output_type": "execute_result"
    }
   ],
   "source": [
    "data.isna().sum()"
   ]
  },
  {
   "cell_type": "code",
   "execution_count": 12,
   "metadata": {},
   "outputs": [],
   "source": [
    "dataset_scores[\"missing_percentage\"] = data.isna().sum().sum()/data.size\n",
    "dataset_scores[\"most_missing_column\"] = data.isna().sum().max()/data.shape[0]"
   ]
  },
  {
   "cell_type": "markdown",
   "metadata": {},
   "source": [
    "Other ideas: correlation, not good dates, mishmashed formats, upper and lower cased..."
   ]
  },
  {
   "cell_type": "markdown",
   "metadata": {},
   "source": [
    "# Create a badge"
   ]
  },
  {
   "cell_type": "code",
   "execution_count": 13,
   "metadata": {},
   "outputs": [],
   "source": [
    "# save obtained scores to json\n",
    "import json\n",
    " \n",
    "filename=\"./badge_data.json\"\n",
    "json_object = json.dumps(dataset_scores, indent=4)\n",
    " \n",
    "with open(filename, \"w\") as outfile:\n",
    "    outfile.write(json_object)"
   ]
  },
  {
   "cell_type": "code",
   "execution_count": 15,
   "metadata": {},
   "outputs": [
    {
     "name": "stdout",
     "output_type": "stream",
     "text": [
      "To add badges paste this to your readme.md file:\n",
      "![DQ Badge](https://img.shields.io/badge/dynamic/json?url=https%3A%2F%2Fraw.githubusercontent.com%2Fannapanfil%2Fdata_quality_labeler%2Fmain%2F./badge_data.json&query=%24.missing_percentage&label=missing_percentage)\n",
      "![DQ Badge](https://img.shields.io/badge/dynamic/json?url=https%3A%2F%2Fraw.githubusercontent.com%2Fannapanfil%2Fdata_quality_labeler%2Fmain%2F./badge_data.json&query=%24.most_missing_column&label=most_missing_column)\n"
     ]
    }
   ],
   "source": [
    "repo_url = \"https://github.com/annapanfil/data_quality_labeler\" #todo: get dinamically\n",
    "\n",
    "ownername = repo_url.split(\"/\")[3]\n",
    "repo_name = repo_url.split(\"/\")[4]\n",
    "branch = \"main\"\n",
    "\n",
    "\n",
    "print(\"To add badges paste this to your readme.md file:\")\n",
    "for badge in dataset_scores.keys():\n",
    "    print(f\"![DQ Badge](https://img.shields.io/badge/dynamic/json?url=https%3A%2F%2Fraw.githubusercontent.com%2F{ownername}%2F{repo_name}%2F{branch}%2F{filename}&query=%24.{badge}&label={badge})\")\n"
   ]
  },
  {
   "cell_type": "code",
   "execution_count": null,
   "metadata": {},
   "outputs": [],
   "source": []
  }
 ],
 "metadata": {
  "kernelspec": {
   "display_name": "ml",
   "language": "python",
   "name": "python3"
  },
  "language_info": {
   "codemirror_mode": {
    "name": "ipython",
    "version": 3
   },
   "file_extension": ".py",
   "mimetype": "text/x-python",
   "name": "python",
   "nbconvert_exporter": "python",
   "pygments_lexer": "ipython3",
   "version": "3.10.9"
  }
 },
 "nbformat": 4,
 "nbformat_minor": 2
}
