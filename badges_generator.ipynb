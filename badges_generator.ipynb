{
 "cells": [
  {
   "cell_type": "markdown",
   "metadata": {},
   "source": [
    "## Data Quality labelling\n",
    "#### BDA project report\n",
    "\n",
    "Report completed by:\n",
    "* Anna Panfil\n",
    "* Igor Czudy\n",
    "* Juras Lukaševičius"
   ]
  },
  {
   "cell_type": "code",
   "execution_count": 1,
   "metadata": {},
   "outputs": [],
   "source": [
    "# Setting directory\n",
    "\n",
    "import os\n",
    "os.chdir('D:/Users/Vartotojas/Documents/GitHub/data_quality_labeler')"
   ]
  },
  {
   "cell_type": "code",
   "execution_count": 2,
   "metadata": {},
   "outputs": [],
   "source": [
    "# Creating dataset\n",
    "\n",
    "from dataset_creator import create_dataset, MISSING_SYMBOLS\n",
    "filename = create_dataset(dataset_size = 100, missing_percentage = 0.1, output_file=\"dataset.csv\")"
   ]
  },
  {
   "cell_type": "code",
   "execution_count": 3,
   "metadata": {},
   "outputs": [
    {
     "data": {
      "text/html": [
       "<div>\n",
       "<style scoped>\n",
       "    .dataframe tbody tr th:only-of-type {\n",
       "        vertical-align: middle;\n",
       "    }\n",
       "\n",
       "    .dataframe tbody tr th {\n",
       "        vertical-align: top;\n",
       "    }\n",
       "\n",
       "    .dataframe thead th {\n",
       "        text-align: right;\n",
       "    }\n",
       "</style>\n",
       "<table border=\"1\" class=\"dataframe\">\n",
       "  <thead>\n",
       "    <tr style=\"text-align: right;\">\n",
       "      <th></th>\n",
       "      <th>name</th>\n",
       "      <th>surname</th>\n",
       "      <th>birthdate</th>\n",
       "      <th>results1</th>\n",
       "      <th>results2</th>\n",
       "      <th>category</th>\n",
       "      <th>email</th>\n",
       "    </tr>\n",
       "  </thead>\n",
       "  <tbody>\n",
       "    <tr>\n",
       "      <th>0</th>\n",
       "      <td>Anthony</td>\n",
       "      <td>Hampton</td>\n",
       "      <td>1970-04-13</td>\n",
       "      <td>23</td>\n",
       "      <td>0.2189765068820564</td>\n",
       "      <td>C</td>\n",
       "      <td>rodriguezjonathan@example.com</td>\n",
       "    </tr>\n",
       "    <tr>\n",
       "      <th>1</th>\n",
       "      <td>Brian</td>\n",
       "      <td>Odom</td>\n",
       "      <td>1991-11-22</td>\n",
       "      <td>11</td>\n",
       "      <td>0.38665489707246736</td>\n",
       "      <td>C</td>\n",
       "      <td>rhondamccoy@example.org</td>\n",
       "    </tr>\n",
       "    <tr>\n",
       "      <th>2</th>\n",
       "      <td>Cameron</td>\n",
       "      <td>Meadows</td>\n",
       "      <td>1950-05-13</td>\n",
       "      <td>3</td>\n",
       "      <td>0.6289607608312131</td>\n",
       "      <td>NaN</td>\n",
       "      <td>NaN</td>\n",
       "    </tr>\n",
       "    <tr>\n",
       "      <th>3</th>\n",
       "      <td>Jack</td>\n",
       "      <td>Johnson</td>\n",
       "      <td>1974-12-21</td>\n",
       "      <td>13</td>\n",
       "      <td>none</td>\n",
       "      <td>C</td>\n",
       "      <td>zgarner@example.net</td>\n",
       "    </tr>\n",
       "    <tr>\n",
       "      <th>4</th>\n",
       "      <td>Veronica</td>\n",
       "      <td>Sullivan</td>\n",
       "      <td>1974-09-24</td>\n",
       "      <td>100</td>\n",
       "      <td>0.2368428069939834</td>\n",
       "      <td>B</td>\n",
       "      <td>ashelton@example.net</td>\n",
       "    </tr>\n",
       "  </tbody>\n",
       "</table>\n",
       "</div>"
      ],
      "text/plain": [
       "       name   surname   birthdate results1             results2 category  \\\n",
       "0   Anthony   Hampton  1970-04-13       23   0.2189765068820564        C   \n",
       "1     Brian      Odom  1991-11-22       11  0.38665489707246736        C   \n",
       "2   Cameron   Meadows  1950-05-13        3   0.6289607608312131      NaN   \n",
       "3      Jack   Johnson  1974-12-21       13                 none        C   \n",
       "4  Veronica  Sullivan  1974-09-24      100   0.2368428069939834        B   \n",
       "\n",
       "                           email  \n",
       "0  rodriguezjonathan@example.com  \n",
       "1        rhondamccoy@example.org  \n",
       "2                            NaN  \n",
       "3            zgarner@example.net  \n",
       "4           ashelton@example.net  "
      ]
     },
     "execution_count": 3,
     "metadata": {},
     "output_type": "execute_result"
    }
   ],
   "source": [
    "# Reading data\n",
    "import numpy as np\n",
    "import pandas as pd\n",
    "\n",
    "data = pd.read_csv(filename)\n",
    "data.head()"
   ]
  },
  {
   "cell_type": "code",
   "execution_count": 4,
   "metadata": {},
   "outputs": [],
   "source": [
    "dataset_scores = dict()"
   ]
  },
  {
   "cell_type": "markdown",
   "metadata": {},
   "source": [
    "### Checking if there are any missing values"
   ]
  },
  {
   "cell_type": "code",
   "execution_count": 8,
   "metadata": {},
   "outputs": [],
   "source": [
    "data.replace(MISSING_SYMBOLS, np.nan, inplace=True)"
   ]
  },
  {
   "cell_type": "code",
   "execution_count": 9,
   "metadata": {},
   "outputs": [
    {
     "data": {
      "text/plain": [
       "name         10\n",
       "surname      10\n",
       "birthdate    10\n",
       "results1     10\n",
       "results2     10\n",
       "category     10\n",
       "email        10\n",
       "dtype: int64"
      ]
     },
     "execution_count": 9,
     "metadata": {},
     "output_type": "execute_result"
    }
   ],
   "source": [
    "data.isna().sum()"
   ]
  },
  {
   "cell_type": "code",
   "execution_count": 10,
   "metadata": {},
   "outputs": [],
   "source": [
    "dataset_scores[\"missing_percentage\"] = data.isna().sum().sum()/data.size\n",
    "dataset_scores[\"most_missing_column\"] = data.isna().sum().max()/data.shape[0]"
   ]
  },
  {
   "cell_type": "markdown",
   "metadata": {},
   "source": [
    "Other ideas: correlation, not good dates, mishmashed formats, upper and lower cased..."
   ]
  },
  {
   "cell_type": "markdown",
   "metadata": {},
   "source": [
    "### Checking for formatting"
   ]
  },
  {
   "cell_type": "code",
   "execution_count": 11,
   "metadata": {},
   "outputs": [],
   "source": [
    "# Here we check if columns only with numbers. If so, they are formatted as float64\n",
    "# IMPORTANT! If the column is only numerical and an identifier, its name must be\n",
    "# listed below. Otherwise, it will be added into outlier calculation.\n",
    "\n",
    "categorical_variables = ['name']"
   ]
  },
  {
   "cell_type": "code",
   "execution_count": 12,
   "metadata": {},
   "outputs": [
    {
     "name": "stdout",
     "output_type": "stream",
     "text": [
      "Updated DataFrame:\n",
      "        name   surname   birthdate  results1  results2 category  \\\n",
      "0    Anthony   Hampton  1970-04-13      23.0  0.218977        C   \n",
      "1      Brian      Odom  1991-11-22      11.0  0.386655        C   \n",
      "2    Cameron   Meadows  1950-05-13       3.0  0.628961      NaN   \n",
      "3       Jack   Johnson  1974-12-21      13.0       NaN        C   \n",
      "4   Veronica  Sullivan  1974-09-24     100.0  0.236843        B   \n",
      "..       ...       ...         ...       ...       ...      ...   \n",
      "95      Anne   Andrews  1925-01-28      36.0  0.014766        A   \n",
      "96   William     Brown  1964-08-11       6.0  0.445439        C   \n",
      "97   Kenneth     Baker  1998-07-05      78.0  0.919524        B   \n",
      "98      Carl  Fletcher  2012-09-09       5.0  0.657009        A   \n",
      "99     Tracy       NaN         NaN       7.0       NaN        C   \n",
      "\n",
      "                            email  \n",
      "0   rodriguezjonathan@example.com  \n",
      "1         rhondamccoy@example.org  \n",
      "2                             NaN  \n",
      "3             zgarner@example.net  \n",
      "4            ashelton@example.net  \n",
      "..                            ...  \n",
      "95       parkerdennis@example.net  \n",
      "96                            NaN  \n",
      "97             alex72@example.com  \n",
      "98             vjones@example.net  \n",
      "99       cummingsgreg@example.net  \n",
      "\n",
      "[100 rows x 7 columns]\n"
     ]
    }
   ],
   "source": [
    "string_columns = data.select_dtypes(include='object').columns\n",
    "\n",
    "# Convert string columns to numeric if they contain only numbers or 'NaN'\n",
    "for col in string_columns:\n",
    "    try:\n",
    "        # Skip conversion for columns in list A\n",
    "        if col in categorical_variables:\n",
    "            continue\n",
    "            \n",
    "        # Check if there are any numbers in the column\n",
    "        if pd.to_numeric(data[col], errors='coerce').notna().any():\n",
    "            data[col] = pd.to_numeric(data[col], errors='coerce')\n",
    "        else:\n",
    "            # If no numbers found, keep the column as an object\n",
    "            data[col] = data[col].astype('object')\n",
    "    except ValueError:\n",
    "        print(f\"Unable to convert column '{col}' to numeric.\")\n",
    "\n",
    "# Check the result\n",
    "print(\"Updated DataFrame:\")\n",
    "print(data)"
   ]
  },
  {
   "cell_type": "markdown",
   "metadata": {},
   "source": [
    "### Checking for outliers"
   ]
  },
  {
   "cell_type": "code",
   "execution_count": 13,
   "metadata": {},
   "outputs": [
    {
     "data": {
      "text/plain": [
       "Index(['results1', 'results2'], dtype='object')"
      ]
     },
     "execution_count": 13,
     "metadata": {},
     "output_type": "execute_result"
    }
   ],
   "source": [
    "# First we select the numeric columns in the data frame\n",
    "\n",
    "numeric_columns = data.select_dtypes(include=['number']).columns\n",
    "numeric_columns"
   ]
  },
  {
   "cell_type": "code",
   "execution_count": 14,
   "metadata": {},
   "outputs": [],
   "source": [
    "# Function for outlier detection using descriptive statistics (quantiles)\n",
    "\n",
    "def identify_outliers(column):\n",
    "    Q1 = column.quantile(0.25)\n",
    "    Q3 = column.quantile(0.75)\n",
    "    IQR = Q3 - Q1\n",
    "    lower_bound = Q1 - 1.5 * IQR\n",
    "    upper_bound = Q3 + 1.5 * IQR\n",
    "    return column[(column < lower_bound) | (column > upper_bound)]"
   ]
  },
  {
   "cell_type": "code",
   "execution_count": 15,
   "metadata": {},
   "outputs": [],
   "source": [
    "# Identify outliers in each numeric column\n",
    "\n",
    "outliers_dict = {col: identify_outliers(data[col]) for col in numeric_columns}"
   ]
  },
  {
   "cell_type": "code",
   "execution_count": 16,
   "metadata": {},
   "outputs": [
    {
     "name": "stdout",
     "output_type": "stream",
     "text": [
      "Potential number of outliers in results1:\n",
      "0\n",
      "\n",
      "\n",
      "Potential number of outliers in results2:\n",
      "0\n",
      "\n",
      "\n"
     ]
    }
   ],
   "source": [
    "numerical_values = len(data[list(outliers_dict.keys())])\n",
    "outlier_count = 0\n",
    "\n",
    "for col, outliers in outliers_dict.items():\n",
    "        print(f\"Potential number of outliers in {col}:\")\n",
    "        print(len(outliers))\n",
    "        print(\"\\n\")\n",
    "        outlier_count = len(outliers) + outlier_count\n",
    "\n",
    "if numerical_values == 0:\n",
    "    dataset_scores[\"outlier_percentage\"] = 0\n",
    "else:\n",
    "    dataset_scores[\"outlier_percentage\"] = outlier_count/numerical_values"
   ]
  },
  {
   "cell_type": "markdown",
   "metadata": {},
   "source": [
    "### Duplicate detection (Lower case/higher case)"
   ]
  },
  {
   "cell_type": "code",
   "execution_count": 115,
   "metadata": {},
   "outputs": [
    {
     "name": "stdout",
     "output_type": "stream",
     "text": [
      "Original DataFrame:\n",
      "      Name   Day\n",
      "0     John  noOn\n",
      "1     Mary  nOon\n",
      "2      Bob  Noon\n",
      "3      Bob  noon\n",
      "4     john  NOon\n",
      "5     mary  noon\n",
      "6      BOB  noON\n",
      "7   Thomas  noon\n",
      "8   thomas  nOON\n",
      "9   THOMAS  NOON\n",
      "10  Thomas  noon\n",
      "11     Bob  NoOn\n"
     ]
    }
   ],
   "source": [
    "# Example data\n",
    "info = {'Name': ['John', 'Mary', 'Bob', 'Bob', 'john', 'mary', 'BOB', 'Thomas', 'thomas', 'THOMAS', 'Thomas', 'Bob'], \n",
    "       'Day': ['noOn', 'nOon', 'Noon', 'noon', 'NOon', 'noon', 'noON', 'noon', 'nOON', 'NOON', 'noon', 'NoOn']}\n",
    "\n",
    "# Create DataFrame\n",
    "df = pd.DataFrame(info)\n",
    "\n",
    "# Display the DataFrame\n",
    "print(\"Original DataFrame:\")\n",
    "print(df)"
   ]
  },
  {
   "cell_type": "code",
   "execution_count": 123,
   "metadata": {},
   "outputs": [
    {
     "name": "stdout",
     "output_type": "stream",
     "text": [
      "The column 'name' has 10 truly similar values differing only by capitalization.\n",
      "List of case-sensitive duplicate values: ['Anthony', 'Anthony', 'Cameron', 'Cameron', 'Kimberly', 'Kimberly', 'Kyle', 'Kyle', 'John', 'John', 'James', 'James', 'Matthew', 'Matthew', 'Matthew', 'Matthew', 'Anne', 'Anne', 'Bradley', 'Bradley', 'Victoria', 'Victoria']\n",
      "\n",
      "\n",
      "Unique values: ['Kimberly', 'James', 'John', 'Anthony', 'Victoria', 'Cameron', 'Matthew', 'Anne', 'Bradley', 'Kyle']\n",
      "\n",
      "\n",
      "The column 'surname' has 7 truly similar values differing only by capitalization.\n",
      "List of case-sensitive duplicate values: ['Morris', 'Morris', 'Williams', 'Williams', 'Williams', 'Gonzalez', 'Gonzalez', 'Jones', 'Jones', 'Jones', 'Jones', 'Allen', 'Allen', 'Lewis', 'Lewis', 'Brown', 'Brown', 'Brown']\n",
      "\n",
      "\n",
      "Unique values: ['Gonzalez', 'Jones', 'Williams', 'Morris', 'Brown', 'Allen', 'Lewis']\n",
      "\n",
      "\n",
      "The column 'birthdate' does not have truly similar values differing only by capitalization.\n",
      "\n",
      "\n",
      "The column 'category' has 3 truly similar values differing only by capitalization.\n",
      "List of case-sensitive duplicate values: ['C', 'C', 'C', 'C', 'C', 'C', 'C', 'C', 'C', 'C', 'C', 'C', 'C', 'C', 'C', 'C', 'C', 'C', 'C', 'C', 'C', 'C', 'C', 'C', 'C', 'C', 'C', 'C', 'C', 'C', 'C', 'C', 'C', 'C', 'C', 'C', 'C', 'C', 'B', 'B', 'B', 'B', 'B', 'B', 'B', 'B', 'B', 'B', 'B', 'B', 'B', 'B', 'B', 'B', 'B', 'B', 'B', 'B', 'B', 'B', 'B', 'B', 'A', 'A', 'A', 'A', 'A', 'A', 'A', 'A', 'A', 'A', 'A', 'A', 'A', 'A', 'A', 'A', 'A', 'A', 'A', 'A', 'A', 'A', 'A', 'A', 'A', 'A', 'A', 'A']\n",
      "\n",
      "\n",
      "Unique values: ['A', 'C', 'B']\n",
      "\n",
      "\n",
      "The column 'email' does not have truly similar values differing only by capitalization.\n",
      "\n",
      "\n"
     ]
    }
   ],
   "source": [
    "n_unique_val = 0\n",
    "n_variants = 0\n",
    "\n",
    "def get_case_duplicates(column):\n",
    "    \"\"\"\n",
    "    Get the list of similar values (ignoring NaN) that only differ by capitalization in a column.\n",
    "    \n",
    "    Parameters:\n",
    "    - column: pandas Series, the column to check\n",
    "    \n",
    "    Returns:\n",
    "    - has_duplicates: True if case-insensitive duplicates are found, False otherwise\n",
    "    - count_duplicates: count of similar values differing only by capitalization\n",
    "    - duplicate_values: list of similar values differing only by capitalization\n",
    "    \"\"\"\n",
    "    lowercased_values = column.dropna().astype(str).str.lower()\n",
    "    \n",
    "    def are_truly_case_duplicates(val1, val2):\n",
    "        return val1 != val2 and val1.lower() == val2.lower()\n",
    "    \n",
    "    duplicated_mask = lowercased_values.duplicated(keep=False)\n",
    "    has_duplicates = duplicated_mask.any()\n",
    "    \n",
    "    count_duplicates = 0\n",
    "    duplicate_values = []\n",
    "    \n",
    "    for val in lowercased_values[duplicated_mask].unique():\n",
    "        similar_values = lowercased_values[lowercased_values == val].index.tolist()\n",
    "        if len(similar_values) > 1 and not any(are_truly_case_duplicates(lowercased_values[i], lowercased_values[j]) for i in similar_values for j in similar_values if i != j):\n",
    "            count_duplicates += 1\n",
    "            duplicate_values.extend(similar_values)\n",
    "    \n",
    "    return has_duplicates, count_duplicates, column[duplicate_values].tolist()\n",
    "\n",
    "object_columns = data.select_dtypes(include='object').columns\n",
    "\n",
    "for column_name in object_columns:\n",
    "    has_duplicates, count_duplicates, duplicate_values = get_case_duplicates(data[column_name])\n",
    "\n",
    "    if has_duplicates:\n",
    "        print(f\"The column '{column_name}' has {count_duplicates} truly similar values differing only by capitalization.\")\n",
    "        print(f\"List of case-sensitive duplicate values: {duplicate_values}\")\n",
    "        unique_values = set(duplicate_values)\n",
    "        unique_list = list(unique_values)\n",
    "        print('\\n')\n",
    "        print(f\"Unique values: {unique_list}\")\n",
    "        \n",
    "        n_unique_val = n_unique_val + count_duplicates\n",
    "        n_variants = n_variants + len(unique_list)\n",
    "        \n",
    "    else:\n",
    "        print(f\"The column '{column_name}' does not have truly similar values differing only by capitalization.\")\n",
    "    print(\"\\n\")  # Add a separator for better readability"
   ]
  },
  {
   "cell_type": "code",
   "execution_count": 124,
   "metadata": {},
   "outputs": [],
   "source": [
    "if n_variants == 0:\n",
    "    dataset_scores[\"duplicate_proportion\"] = 0\n",
    "else:\n",
    "    dataset_scores[\"duplicate_proportion\"] = 1 - n_unique_val/n_variants"
   ]
  },
  {
   "cell_type": "code",
   "execution_count": 122,
   "metadata": {},
   "outputs": [
    {
     "data": {
      "text/plain": [
       "0.7222222222222222"
      ]
     },
     "execution_count": 122,
     "metadata": {},
     "output_type": "execute_result"
    }
   ],
   "source": [
    "dataset_scores[\"duplicate_proportion\"]"
   ]
  },
  {
   "cell_type": "markdown",
   "metadata": {},
   "source": [
    "### Creating badges"
   ]
  },
  {
   "cell_type": "code",
   "execution_count": 17,
   "metadata": {},
   "outputs": [],
   "source": [
    "# save obtained scores to json\n",
    "import json\n",
    " \n",
    "filename=\"./badge_data.json\"\n",
    "json_object = json.dumps(dataset_scores, indent=4)\n",
    " \n",
    "with open(filename, \"w\") as outfile:\n",
    "    outfile.write(json_object)"
   ]
  },
  {
   "cell_type": "code",
   "execution_count": 18,
   "metadata": {},
   "outputs": [
    {
     "name": "stdout",
     "output_type": "stream",
     "text": [
      "To add badges paste this to your readme.md file:\n",
      "![DQ Badge](https://img.shields.io/badge/dynamic/json?url=https%3A%2F%2Fraw.githubusercontent.com%2Fannapanfil%2Fdata_quality_labeler%2Fmain%2F./badge_data.json&query=%24.missing_percentage&label=missing_percentage)\n",
      "![DQ Badge](https://img.shields.io/badge/dynamic/json?url=https%3A%2F%2Fraw.githubusercontent.com%2Fannapanfil%2Fdata_quality_labeler%2Fmain%2F./badge_data.json&query=%24.most_missing_column&label=most_missing_column)\n",
      "![DQ Badge](https://img.shields.io/badge/dynamic/json?url=https%3A%2F%2Fraw.githubusercontent.com%2Fannapanfil%2Fdata_quality_labeler%2Fmain%2F./badge_data.json&query=%24.outlier_percentage&label=outlier_percentage)\n"
     ]
    }
   ],
   "source": [
    "repo_url = \"https://github.com/annapanfil/data_quality_labeler\" #todo: get dinamically\n",
    "\n",
    "ownername = repo_url.split(\"/\")[3]\n",
    "repo_name = repo_url.split(\"/\")[4]\n",
    "branch = \"main\"\n",
    "\n",
    "\n",
    "print(\"To add badges paste this to your readme.md file:\")\n",
    "for badge in dataset_scores.keys():\n",
    "    print(f\"![DQ Badge](https://img.shields.io/badge/dynamic/json?url=https%3A%2F%2Fraw.githubusercontent.com%2F{ownername}%2F{repo_name}%2F{branch}%2F{filename}&query=%24.{badge}&label={badge})\")\n"
   ]
  },
  {
   "cell_type": "code",
   "execution_count": null,
   "metadata": {},
   "outputs": [],
   "source": []
  },
  {
   "cell_type": "raw",
   "metadata": {},
   "source": [
    "### SIDE CODE (maybe useful?)\n",
    "\n",
    "## This converts all object columns into lowercase strings\n",
    "\n",
    "# List of object columns to convert\n",
    "object_columns = data.select_dtypes(include='object').columns\n",
    "\n",
    "# Convert object columns to lowercase strings, skipping NaN values\n",
    "for col in object_columns:\n",
    "    data[col] = data[col].apply(lambda x: str(x).lower() if pd.notna(x) else x)\n",
    "\n",
    "\n",
    "\n",
    "\n",
    "## This is an example data frane for the capitalization"
   ]
  },
  {
   "cell_type": "code",
   "execution_count": null,
   "metadata": {},
   "outputs": [],
   "source": [
    "# Example data\n",
    "info = {'Name': ['John', 'Mary', 'Bob', 'Bob', 'john', 'mary', 'BOB', 'Thomas', 'thomas', 'THOMAS', 'Thomas', 'Bob'], \n",
    "       'Day': ['noOn', 'nOon', 'Noon', 'noon', 'NOon', 'noon', 'noON', 'noon', 'nOON', 'NOON', 'noon', 'NoOn']}\n",
    "\n",
    "# Create DataFrame\n",
    "df = pd.DataFrame(info)\n",
    "\n",
    "# Display the DataFrame\n",
    "print(\"Original DataFrame:\")\n",
    "print(df)"
   ]
  }
 ],
 "metadata": {
  "kernelspec": {
   "display_name": "Python 3",
   "language": "python",
   "name": "python3"
  },
  "language_info": {
   "codemirror_mode": {
    "name": "ipython",
    "version": 3
   },
   "file_extension": ".py",
   "mimetype": "text/x-python",
   "name": "python",
   "nbconvert_exporter": "python",
   "pygments_lexer": "ipython3",
   "version": "3.8.5"
  }
 },
 "nbformat": 4,
 "nbformat_minor": 4
}
