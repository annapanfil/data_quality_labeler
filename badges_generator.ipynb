{
 "cells": [
  {
   "cell_type": "markdown",
   "metadata": {},
   "source": [
    "## Generate dataset"
   ]
  },
  {
   "cell_type": "code",
   "execution_count": 68,
   "metadata": {},
   "outputs": [],
   "source": [
    "from faker import Faker\n",
    "import numpy as np\n",
    "import pandas as pd\n",
    "import random\n",
    "\n",
    "fake = Faker()"
   ]
  },
  {
   "cell_type": "code",
   "execution_count": 69,
   "metadata": {},
   "outputs": [
    {
     "data": {
      "text/html": [
       "<div>\n",
       "<style scoped>\n",
       "    .dataframe tbody tr th:only-of-type {\n",
       "        vertical-align: middle;\n",
       "    }\n",
       "\n",
       "    .dataframe tbody tr th {\n",
       "        vertical-align: top;\n",
       "    }\n",
       "\n",
       "    .dataframe thead th {\n",
       "        text-align: right;\n",
       "    }\n",
       "</style>\n",
       "<table border=\"1\" class=\"dataframe\">\n",
       "  <thead>\n",
       "    <tr style=\"text-align: right;\">\n",
       "      <th></th>\n",
       "      <th>name</th>\n",
       "      <th>surname</th>\n",
       "      <th>birthdate</th>\n",
       "      <th>results1</th>\n",
       "      <th>results2</th>\n",
       "      <th>category</th>\n",
       "      <th>email</th>\n",
       "    </tr>\n",
       "  </thead>\n",
       "  <tbody>\n",
       "    <tr>\n",
       "      <th>0</th>\n",
       "      <td>Laura</td>\n",
       "      <td>Robbins</td>\n",
       "      <td>2009-04-07</td>\n",
       "      <td>86</td>\n",
       "      <td>0.909423</td>\n",
       "      <td>B</td>\n",
       "      <td>kyle02@example.com</td>\n",
       "    </tr>\n",
       "    <tr>\n",
       "      <th>1</th>\n",
       "      <td>Douglas</td>\n",
       "      <td>Morris</td>\n",
       "      <td>1915-08-08</td>\n",
       "      <td>82</td>\n",
       "      <td>0.689553</td>\n",
       "      <td>A</td>\n",
       "      <td>rhonda83@example.org</td>\n",
       "    </tr>\n",
       "    <tr>\n",
       "      <th>2</th>\n",
       "      <td>Jesus</td>\n",
       "      <td>null</td>\n",
       "      <td>1936-01-10</td>\n",
       "      <td>55</td>\n",
       "      <td>0.007598</td>\n",
       "      <td>C</td>\n",
       "      <td>jameshartman@example.com</td>\n",
       "    </tr>\n",
       "    <tr>\n",
       "      <th>3</th>\n",
       "      <td>Melanie</td>\n",
       "      <td>Morales</td>\n",
       "      <td>1982-09-17</td>\n",
       "      <td>59</td>\n",
       "      <td></td>\n",
       "      <td>C</td>\n",
       "      <td>ycruz@example.com</td>\n",
       "    </tr>\n",
       "    <tr>\n",
       "      <th>4</th>\n",
       "      <td>Sylvia</td>\n",
       "      <td>Miller</td>\n",
       "      <td>1923-06-04</td>\n",
       "      <td>13</td>\n",
       "      <td>0.059989</td>\n",
       "      <td>B</td>\n",
       "      <td>N/A</td>\n",
       "    </tr>\n",
       "  </tbody>\n",
       "</table>\n",
       "</div>"
      ],
      "text/plain": [
       "      name  surname   birthdate results1  results2 category  \\\n",
       "0    Laura  Robbins  2009-04-07       86  0.909423        B   \n",
       "1  Douglas   Morris  1915-08-08       82  0.689553        A   \n",
       "2    Jesus     null  1936-01-10       55  0.007598        C   \n",
       "3  Melanie  Morales  1982-09-17       59                  C   \n",
       "4   Sylvia   Miller  1923-06-04       13  0.059989        B   \n",
       "\n",
       "                      email  \n",
       "0        kyle02@example.com  \n",
       "1      rhonda83@example.org  \n",
       "2  jameshartman@example.com  \n",
       "3         ycruz@example.com  \n",
       "4                       N/A  "
      ]
     },
     "execution_count": 69,
     "metadata": {},
     "output_type": "execute_result"
    }
   ],
   "source": [
    "dataset_size = 100\n",
    "missing_percentage = [0.1]*len(columns)\n",
    "\n",
    "columns=[\"name\", \"surname\", \"birthdate\", \"results1\", \"results2\", \"category\", \"email\"]\n",
    "missing_symbols = [None, \"null\", \"\", \"NULL\", \"N/A\", \"n/a\", \"NA\", \"na\", \"NaN\", \"nan\", \"None\", \"none\", \"NONE\"]\n",
    "\n",
    "data = pd.DataFrame(columns=columns)\n",
    "\n",
    "data[\"name\"],data[\"surname\"] = zip(*[fake.name().split() for _ in range(dataset_size)])\n",
    "data[\"birthdate\"] = [fake.date_of_birth() for _ in range(dataset_size)]\n",
    "data[\"results1\"] = [random.randint(0,100) for _ in range(dataset_size)]\n",
    "data[\"results2\"] = [random.random() for _ in range(dataset_size)]\n",
    "data[\"category\"] = random.choices([\"A\", \"B\", \"C\"], k=dataset_size)\n",
    "data[\"email\"] = [fake.email() for _ in range(dataset_size)]\n",
    "\n",
    "## mishmash a bit\n",
    "# missing\n",
    "for column_no, missing_p in enumerate(missing_percentage):\n",
    "    data.iloc[data.sample(frac=missing_p).index, column_no] = random.choices(missing_symbols, k=int(missing_p*dataset_size))\n",
    "\n",
    "# future dates in birthdate\n",
    "\n",
    "# outliers\n",
    "\n",
    "# lowercase categories\n",
    "\n",
    "# not int results\n",
    "\n",
    "# ...\n",
    "\n",
    "data.head()"
   ]
  },
  {
   "cell_type": "code",
   "execution_count": 72,
   "metadata": {},
   "outputs": [
    {
     "data": {
      "text/plain": [
       "name         0\n",
       "surname      0\n",
       "birthdate    1\n",
       "results1     1\n",
       "results2     1\n",
       "category     0\n",
       "email        0\n",
       "dtype: int64"
      ]
     },
     "execution_count": 72,
     "metadata": {},
     "output_type": "execute_result"
    }
   ],
   "source": [
    "data.isnull().sum()"
   ]
  },
  {
   "cell_type": "markdown",
   "metadata": {},
   "source": [
    "# Start analysis"
   ]
  },
  {
   "cell_type": "markdown",
   "metadata": {},
   "source": [
    "## Check if there are any missing values"
   ]
  },
  {
   "cell_type": "code",
   "execution_count": 91,
   "metadata": {},
   "outputs": [],
   "source": [
    "dataset_scores = dict()"
   ]
  },
  {
   "cell_type": "code",
   "execution_count": 92,
   "metadata": {},
   "outputs": [],
   "source": [
    "data.replace(missing_symbols, np.nan, inplace=True)"
   ]
  },
  {
   "cell_type": "code",
   "execution_count": 93,
   "metadata": {},
   "outputs": [
    {
     "data": {
      "text/plain": [
       "name         10\n",
       "surname      10\n",
       "birthdate    10\n",
       "results1     10\n",
       "results2     10\n",
       "category     10\n",
       "email        10\n",
       "dtype: int64"
      ]
     },
     "execution_count": 93,
     "metadata": {},
     "output_type": "execute_result"
    }
   ],
   "source": [
    "data.isna().sum()"
   ]
  },
  {
   "cell_type": "code",
   "execution_count": 94,
   "metadata": {},
   "outputs": [],
   "source": [
    "dataset_scores[\"missing_percentage\"] = data.isna().sum().sum()/data.size\n",
    "dataset_scores[\"most_missing_column\"] = data.isna().sum().max()/data.shape[0]"
   ]
  },
  {
   "cell_type": "markdown",
   "metadata": {},
   "source": [
    "Other ideas: correlation, not good dates, mishmashed formats, upper and lower cased..."
   ]
  },
  {
   "cell_type": "markdown",
   "metadata": {},
   "source": [
    "# Create a badge"
   ]
  },
  {
   "cell_type": "code",
   "execution_count": 98,
   "metadata": {},
   "outputs": [],
   "source": [
    "# save obtained scores to json\n",
    "import json\n",
    " \n",
    "filename=\"./badge_data.json\"\n",
    "json_object = json.dumps(dataset_scores, indent=4)\n",
    " \n",
    "with open(filename, \"w\") as outfile:\n",
    "    outfile.write(json_object)"
   ]
  },
  {
   "cell_type": "code",
   "execution_count": 100,
   "metadata": {},
   "outputs": [
    {
     "name": "stdout",
     "output_type": "stream",
     "text": [
      "to add badges paste this to your readme.md file:\n",
      "![DQ Badge](https://img.shields.io/badge/dynamic/json?url=https://github.com/annapanfil/data_quality_labeler/blob/main/./badge_data.json)&query=%24.missing_percentage&label=missing_percentage\n",
      "![DQ Badge](https://img.shields.io/badge/dynamic/json?url=https://github.com/annapanfil/data_quality_labeler/blob/main/./badge_data.json)&query=%24.most_missing_column&label=most_missing_column\n"
     ]
    }
   ],
   "source": [
    "repo_url = \"https://github.com/annapanfil/data_quality_labeler\" #todo: get dinamically\n",
    "\n",
    "print(\"To add badges paste this to your readme.md file:\")\n",
    "for badge in dataset_scores.keys():\n",
    "    print(f\"![DQ Badge](https://img.shields.io/badge/dynamic/json?url={repo_url}/blob/main/{filename})&query=%24.{badge}&label={badge}\")\n"
   ]
  },
  {
   "cell_type": "code",
   "execution_count": null,
   "metadata": {},
   "outputs": [],
   "source": []
  }
 ],
 "metadata": {
  "kernelspec": {
   "display_name": "ml",
   "language": "python",
   "name": "python3"
  },
  "language_info": {
   "codemirror_mode": {
    "name": "ipython",
    "version": 3
   },
   "file_extension": ".py",
   "mimetype": "text/x-python",
   "name": "python",
   "nbconvert_exporter": "python",
   "pygments_lexer": "ipython3",
   "version": "3.10.9"
  }
 },
 "nbformat": 4,
 "nbformat_minor": 2
}
