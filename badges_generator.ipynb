{
 "cells": [
  {
   "cell_type": "code",
   "execution_count": 1,
   "metadata": {},
   "outputs": [
    {
     "name": "stderr",
     "output_type": "stream",
     "text": [
      "/mnt/dane/projekty/studia/mgr2_UPV/data_quality_labeler/dataset_creator.py:38: FutureWarning: The frame.append method is deprecated and will be removed from pandas in a future version. Use pandas.concat instead.\n",
      "  self.data = self.data.append(self.data.iloc[self.data.sample(frac=duplicate_percentage).index, :])\n"
     ]
    }
   ],
   "source": [
    "# create dataset\n",
    "\n",
    "from dataset_creator import FakeDataset, MISSING_SYMBOLS\n",
    "\n",
    "filename = 'dataset.csv'\n",
    "OUTLIER_PERCENTAGE = 0.1\n",
    "DUPLICATE_PERCENTAGE = 0.15\n",
    "MISSING_PERCENTAGE = 0.1\n",
    "\n",
    "\n",
    "dataset = FakeDataset(dataset_size = 100)\\\n",
    "        .add_outliers_above(outlier_percentage = OUTLIER_PERCENTAGE)\\\n",
    "        .add_duplicates(duplicate_percentage = DUPLICATE_PERCENTAGE)\\\n",
    "        .add_missing(missing_percentage = MISSING_PERCENTAGE)\\\n",
    "        .to_csv(filename)"
   ]
  },
  {
   "cell_type": "code",
   "execution_count": 2,
   "metadata": {},
   "outputs": [
    {
     "name": "stdout",
     "output_type": "stream",
     "text": [
      "(115, 7)\n"
     ]
    },
    {
     "data": {
      "text/html": [
       "<div>\n",
       "<style scoped>\n",
       "    .dataframe tbody tr th:only-of-type {\n",
       "        vertical-align: middle;\n",
       "    }\n",
       "\n",
       "    .dataframe tbody tr th {\n",
       "        vertical-align: top;\n",
       "    }\n",
       "\n",
       "    .dataframe thead th {\n",
       "        text-align: right;\n",
       "    }\n",
       "</style>\n",
       "<table border=\"1\" class=\"dataframe\">\n",
       "  <thead>\n",
       "    <tr style=\"text-align: right;\">\n",
       "      <th></th>\n",
       "      <th>name</th>\n",
       "      <th>surname</th>\n",
       "      <th>birthdate</th>\n",
       "      <th>results1</th>\n",
       "      <th>results2</th>\n",
       "      <th>category</th>\n",
       "      <th>email</th>\n",
       "    </tr>\n",
       "  </thead>\n",
       "  <tbody>\n",
       "    <tr>\n",
       "      <th>0</th>\n",
       "      <td>Charlotte</td>\n",
       "      <td>Brady</td>\n",
       "      <td>1937-10-17</td>\n",
       "      <td>555</td>\n",
       "      <td>NaN</td>\n",
       "      <td>B</td>\n",
       "      <td>starkamanda@example.net</td>\n",
       "    </tr>\n",
       "    <tr>\n",
       "      <th>1</th>\n",
       "      <td>NaN</td>\n",
       "      <td>Ayala</td>\n",
       "      <td>1950-06-12</td>\n",
       "      <td>88</td>\n",
       "      <td>NaN</td>\n",
       "      <td>none</td>\n",
       "      <td>perkinscynthia@example.com</td>\n",
       "    </tr>\n",
       "    <tr>\n",
       "      <th>2</th>\n",
       "      <td>NaN</td>\n",
       "      <td>Richards</td>\n",
       "      <td>2019-08-26</td>\n",
       "      <td>50</td>\n",
       "      <td>-0.023403</td>\n",
       "      <td>C</td>\n",
       "      <td>benjamin97@example.net</td>\n",
       "    </tr>\n",
       "    <tr>\n",
       "      <th>3</th>\n",
       "      <td>Maureen</td>\n",
       "      <td>Pierce</td>\n",
       "      <td>1933-09-15</td>\n",
       "      <td>73</td>\n",
       "      <td>NaN</td>\n",
       "      <td>C</td>\n",
       "      <td>juliawarren@example.net</td>\n",
       "    </tr>\n",
       "    <tr>\n",
       "      <th>4</th>\n",
       "      <td>Amy</td>\n",
       "      <td>Allen</td>\n",
       "      <td>1943-08-14</td>\n",
       "      <td>42</td>\n",
       "      <td>0.366274</td>\n",
       "      <td>A</td>\n",
       "      <td>pbarrett@example.com</td>\n",
       "    </tr>\n",
       "  </tbody>\n",
       "</table>\n",
       "</div>"
      ],
      "text/plain": [
       "        name   surname   birthdate results1  results2 category  \\\n",
       "0  Charlotte     Brady  1937-10-17      555       NaN        B   \n",
       "1        NaN     Ayala  1950-06-12       88       NaN     none   \n",
       "2        NaN  Richards  2019-08-26       50 -0.023403        C   \n",
       "3    Maureen    Pierce  1933-09-15       73       NaN        C   \n",
       "4        Amy     Allen  1943-08-14       42  0.366274        A   \n",
       "\n",
       "                        email  \n",
       "0     starkamanda@example.net  \n",
       "1  perkinscynthia@example.com  \n",
       "2      benjamin97@example.net  \n",
       "3     juliawarren@example.net  \n",
       "4        pbarrett@example.com  "
      ]
     },
     "execution_count": 2,
     "metadata": {},
     "output_type": "execute_result"
    }
   ],
   "source": [
    "# read data\n",
    "import numpy as np\n",
    "import pandas as pd\n",
    "\n",
    "data = pd.read_csv(filename)\n",
    "print(data.shape)\n",
    "data.head()"
   ]
  },
  {
   "cell_type": "code",
   "execution_count": 3,
   "metadata": {},
   "outputs": [],
   "source": [
    "dataset_scores = dict()"
   ]
  },
  {
   "cell_type": "markdown",
   "metadata": {},
   "source": [
    "## Check if there are any missing values"
   ]
  },
  {
   "cell_type": "code",
   "execution_count": 4,
   "metadata": {},
   "outputs": [],
   "source": [
    "data.replace(MISSING_SYMBOLS, np.nan, inplace=True)"
   ]
  },
  {
   "cell_type": "code",
   "execution_count": 5,
   "metadata": {},
   "outputs": [
    {
     "data": {
      "text/plain": [
       "name         12\n",
       "surname      12\n",
       "birthdate    12\n",
       "results1     12\n",
       "results2     12\n",
       "category     12\n",
       "email        12\n",
       "dtype: int64"
      ]
     },
     "execution_count": 5,
     "metadata": {},
     "output_type": "execute_result"
    }
   ],
   "source": [
    "data.isna().sum()"
   ]
  },
  {
   "cell_type": "code",
   "execution_count": 6,
   "metadata": {},
   "outputs": [],
   "source": [
    "data = data._convert(numeric=True, datetime=True).convert_dtypes()\n"
   ]
  },
  {
   "cell_type": "code",
   "execution_count": 7,
   "metadata": {},
   "outputs": [],
   "source": [
    "dataset_scores[\"missing_percentage\"] = data.isna().sum().sum()/data.size\n",
    "dataset_scores[\"most_missing_column\"] = data.isna().sum().max()/data.shape[0]"
   ]
  },
  {
   "cell_type": "code",
   "execution_count": 8,
   "metadata": {},
   "outputs": [],
   "source": [
    "assert(round(dataset_scores[\"missing_percentage\"],2) == MISSING_PERCENTAGE)"
   ]
  },
  {
   "cell_type": "code",
   "execution_count": 9,
   "metadata": {},
   "outputs": [
    {
     "data": {
      "text/plain": [
       "0      555.0\n",
       "1       88.0\n",
       "2       50.0\n",
       "3       73.0\n",
       "4       42.0\n",
       "       ...  \n",
       "110     17.0\n",
       "111     54.0\n",
       "112     78.0\n",
       "113     72.0\n",
       "114     97.0\n",
       "Name: results1, Length: 115, dtype: float64"
      ]
     },
     "execution_count": 9,
     "metadata": {},
     "output_type": "execute_result"
    }
   ],
   "source": [
    "data.results1.astype(\"float\")"
   ]
  },
  {
   "cell_type": "markdown",
   "metadata": {},
   "source": [
    "## Check duplicates"
   ]
  },
  {
   "cell_type": "code",
   "execution_count": 10,
   "metadata": {},
   "outputs": [],
   "source": [
    "dataset_scores[\"duplication_percentage\"] = sum(data.duplicated())/ data.shape[0]"
   ]
  },
  {
   "cell_type": "markdown",
   "metadata": {},
   "source": [
    "## Check outliers\n",
    "\n",
    "For numerical values we use the same method as in box plot (outlier is more tham q3 + 1.5 IQR or less than q1 - 1.5 IQR)"
   ]
  },
  {
   "cell_type": "code",
   "execution_count": 30,
   "metadata": {},
   "outputs": [],
   "source": [
    "numeric_cols = data.select_dtypes(include=['number']).columns\n",
    "outliers_nums = []\n",
    "\n",
    "for col in numeric_cols:\n",
    "    \n",
    "    q1 = data[col].quantile(0.25)\n",
    "    q3 = data[col].quantile(0.75)\n",
    "    \n",
    "    iqr = q3-q1\n",
    "    \n",
    "    upper_bound = q3 + (1.5*iqr)\n",
    "    lower_bound = q1 - (1.5*iqr)\n",
    "\n",
    "    outliers_nums.append(np.sum((data[col] > upper_bound) | (data[col] < lower_bound)))\n",
    "\n",
    "dataset_scores[\"outliers_percentage\"] = sum(outliers_nums)/data.size\n",
    "dataset_scores[\"most_outliers_column\"] = max(outliers_nums)/data.shape[0]"
   ]
  },
  {
   "cell_type": "markdown",
   "metadata": {},
   "source": [
    "For string columns we look for rare values (less than 1% of the observations) or dominant values (more than 90% of the observations)"
   ]
  },
  {
   "cell_type": "markdown",
   "metadata": {},
   "source": [
    "Other ideas: correlation, not good dates, mishmashed formats, upper and lower cased, duplicates, is it actual, are all values the same..."
   ]
  },
  {
   "cell_type": "markdown",
   "metadata": {},
   "source": [
    "# Create badges"
   ]
  },
  {
   "cell_type": "code",
   "execution_count": 13,
   "metadata": {},
   "outputs": [
    {
     "data": {
      "text/plain": [
       "{'missing_percentage': 0.10434782608695652,\n",
       " 'most_missing_column': 0.10434782608695652,\n",
       " 'duplication_percentage': 0.017391304347826087,\n",
       " 'outliers_percentage': 0.0,\n",
       " 'most_outliers_column': 0.0}"
      ]
     },
     "execution_count": 13,
     "metadata": {},
     "output_type": "execute_result"
    }
   ],
   "source": [
    "dataset_scores"
   ]
  },
  {
   "cell_type": "code",
   "execution_count": 14,
   "metadata": {},
   "outputs": [],
   "source": [
    "# save obtained scores to json\n",
    "import json\n",
    " \n",
    "filename=\"./badge_data.json\"\n",
    "json_object = json.dumps(dataset_scores, indent=4)\n",
    " \n",
    "with open(filename, \"w\") as outfile:\n",
    "    outfile.write(json_object)"
   ]
  },
  {
   "cell_type": "code",
   "execution_count": 15,
   "metadata": {},
   "outputs": [
    {
     "name": "stdout",
     "output_type": "stream",
     "text": [
      "To add badges paste this to your readme.md file:\n",
      "![DQ Badge](https://img.shields.io/badge/dynamic/json?url=https%3A%2F%2Fraw.githubusercontent.com%2Fannapanfil%2Fdata_quality_labeler%2Fmain%2F./badge_data.json&query=%24.missing_percentage&label=missing_percentage)\n",
      "![DQ Badge](https://img.shields.io/badge/dynamic/json?url=https%3A%2F%2Fraw.githubusercontent.com%2Fannapanfil%2Fdata_quality_labeler%2Fmain%2F./badge_data.json&query=%24.most_missing_column&label=most_missing_column)\n",
      "![DQ Badge](https://img.shields.io/badge/dynamic/json?url=https%3A%2F%2Fraw.githubusercontent.com%2Fannapanfil%2Fdata_quality_labeler%2Fmain%2F./badge_data.json&query=%24.duplication_percentage&label=duplication_percentage)\n",
      "![DQ Badge](https://img.shields.io/badge/dynamic/json?url=https%3A%2F%2Fraw.githubusercontent.com%2Fannapanfil%2Fdata_quality_labeler%2Fmain%2F./badge_data.json&query=%24.outliers_percentage&label=outliers_percentage)\n",
      "![DQ Badge](https://img.shields.io/badge/dynamic/json?url=https%3A%2F%2Fraw.githubusercontent.com%2Fannapanfil%2Fdata_quality_labeler%2Fmain%2F./badge_data.json&query=%24.most_outliers_column&label=most_outliers_column)\n"
     ]
    }
   ],
   "source": [
    "repo_url = \"https://github.com/annapanfil/data_quality_labeler\" #todo: get dinamically\n",
    "\n",
    "ownername = repo_url.split(\"/\")[3]\n",
    "repo_name = repo_url.split(\"/\")[4]\n",
    "branch = \"main\"\n",
    "\n",
    "\n",
    "print(\"To add badges paste this to your readme.md file:\")\n",
    "for badge in dataset_scores.keys():\n",
    "    print(f\"![DQ Badge](https://img.shields.io/badge/dynamic/json?url=https%3A%2F%2Fraw.githubusercontent.com%2F{ownername}%2F{repo_name}%2F{branch}%2F{filename}&query=%24.{badge}&label={badge})\")\n"
   ]
  }
 ],
 "metadata": {
  "kernelspec": {
   "display_name": "ml",
   "language": "python",
   "name": "python3"
  },
  "language_info": {
   "codemirror_mode": {
    "name": "ipython",
    "version": 3
   },
   "file_extension": ".py",
   "mimetype": "text/x-python",
   "name": "python",
   "nbconvert_exporter": "python",
   "pygments_lexer": "ipython3",
   "version": "3.10.9"
  }
 },
 "nbformat": 4,
 "nbformat_minor": 2
}
